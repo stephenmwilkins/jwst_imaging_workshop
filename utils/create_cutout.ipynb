{
 "cells": [
  {
   "attachments": {},
   "cell_type": "markdown",
   "metadata": {},
   "source": [
    "This notebook is to create (manageable sized) cutouts of images from a set of parent images."
   ]
  },
  {
   "cell_type": "code",
   "execution_count": 1,
   "metadata": {},
   "outputs": [],
   "source": [
    "from astropy.io import fits\n",
    "from astropy.nddata import Cutout2D\n",
    "from astropy.utils.data import download_file\n",
    "from astropy.wcs import WCS"
   ]
  },
  {
   "attachments": {},
   "cell_type": "markdown",
   "metadata": {},
   "source": [
    "Define the parent images"
   ]
  },
  {
   "cell_type": "code",
   "execution_count": 2,
   "metadata": {},
   "outputs": [],
   "source": [
    "\n",
    "# the path to the directory holding the parent images\n",
    "# WARNING: this is currently specific to Steve's machine \n",
    "parent_image_dir = '/Users/sw376/Dropbox/Research/data/images/jwst/ceers/images/0.2'\n",
    "\n",
    "# list of filters to use\n",
    "filters = ['f115w', 'f150w', 'f200w', 'f277w', 'f356w', 'f444w']\n",
    "# filters = ['f115w']\n",
    "\n",
    "# dictionary of images with filter code as the name\n",
    "parent_images = {filter: f'ceers_nircam1_{filter}_v0.2_i2d.fits' for filter in filters}"
   ]
  },
  {
   "attachments": {},
   "cell_type": "markdown",
   "metadata": {},
   "source": [
    "Explore the first image"
   ]
  },
  {
   "cell_type": "code",
   "execution_count": 3,
   "metadata": {},
   "outputs": [
    {
     "name": "stdout",
     "output_type": "stream",
     "text": [
      "Filename: /Users/sw376/Dropbox/Research/data/images/jwst/ceers/images/0.2/ceers_nircam1_f115w_v0.2_i2d.fits\n",
      "No.    Name      Ver    Type      Cards   Dimensions   Format\n",
      "  0  PRIMARY       1 PrimaryHDU     369   ()      \n",
      "  1  SCI           1 ImageHDU        75   (10600, 4800)   float32   \n",
      "  2  ERR           1 ImageHDU        10   (10600, 4800)   float32   \n",
      "  3  CON           1 ImageHDU         9   (10600, 4800)   int32   \n",
      "  4  WHT           1 ImageHDU         9   (10600, 4800)   float32   \n",
      "  5  VAR_POISSON    1 ImageHDU         9   (10600, 4800)   float32   \n",
      "  6  VAR_RNOISE    1 ImageHDU         9   (10600, 4800)   float32   \n",
      "  7  VAR_FLAT      1 ImageHDU         9   (10600, 4800)   float32   \n",
      "  8  HDRTAB        1 BinTableHDU    816   96R x 403C   [23A, 5A, 3A, 48A, 7A, 13A, 5A, 5A, 7A, 10A, 4A, L, D, D, D, D, 4A, 18A, 57A, 22A, 3A, D, 20A, D, 10A, 12A, 23A, 23A, 26A, 11A, 5A, 3A, 3A, 2A, 1A, 2A, 1A, L, 12A, 23A, 2A, 26A, 20A, 27A, 10A, K, L, L, L, L, 5A, 1A, 5A, D, D, D, D, D, D, D, D, D, D, 6A, 5A, 1A, 5A, 5A, 5A, L, D, D, D, D, D, D, D, D, D, D, D, D, 4A, D, D, D, D, D, D, D, D, D, K, 20A, 9A, D, D, D, D, D, D, D, D, D, 7A, D, D, K, K, D, D, K, K, D, D, K, K, K, K, K, D, D, D, D, D, D, D, D, K, K, L, L, K, K, D, D, D, D, D, D, D, 4A, K, K, K, K, K, K, D, D, D, D, 4A, D, D, K, D, K, D, D, D, D, D, D, D, D, D, D, D, D, D, D, D, D, D, 7A, 10A, D, D, D, D, D, D, D, D, D, D, D, D, D, 10A, 11A, D, D, D, D, D, D, D, D, D, D, D, D, K, K, D, 4A, K, K, K, D, 4A, K, K, K, D, 4A, K, D, D, K, 27A, 27A, 10A, D, D, D, D, D, D, D, 9A, 27A, D, D, D, D, D, D, D, 8A, 14A, 33A, D, D, 3A, 3A, D, 33A, 3A, 39A, D, D, 41A, 33A, 3A, 3A, 3A, 3A, 3A, D, 33A, 3A, 3A, 3A, D, D, 38A, 33A, 3A, 3A, D, 35A, 35A, D, 38A, D, 3A, D, D, D, D, 39A, D, D, D, 3A, D, 38A, D, 40A, 37A, D, D, D, 3A, D, D, D, D, D, 8A, D, D, D, D, D, 8A, 8A, D, D, D, D, D, 8A, D, 7A, 7A, D, D, 7A, 8A, D, D, 8A, D, D, D, 7A, D, 8A, 8A, 8A, 8A, 7A, D, D, 8A, 7A, D, D, D, D, 8A, D, 7A, D, D, D, 5A, D, L, 6A, D, D, D, D, 4A, D, D, D, K, D, D, D, D, D, D, 12A, 12A, D, 3A, 3A, D, D, D, D, D, D, D, D, D, D, D, D, D, D, D, D, D, 121A, D, D, D, D, D, D, K, D, D, D, D]   \n",
      "  9  ASDF          1 BinTableHDU     11   1R x 1C   [36530B]   \n",
      "(4800, 10600)\n",
      "XTENSION IMAGE\n",
      "BITPIX -32\n",
      "NAXIS 2\n",
      "NAXIS1 10600\n",
      "NAXIS2 4800\n",
      "PCOUNT 0\n",
      "GCOUNT 1\n",
      "EXTNAME SCI\n",
      "MJD-BEG 59751.7567899221\n",
      "MJD-AVG 59751.80492383742\n",
      "MJD-END 59751.85247748843\n",
      "TDB-BEG 59751.75638807951\n",
      "TDB-MID 59751.8045247492\n",
      "TDB-END 59751.85208112191\n",
      "XPOSURE 49475.03999999999\n",
      "TELAPSE 49475.03999999999\n",
      " \n",
      " JWST ephemeris information\n",
      " \n",
      "REFFRAME EME2000\n",
      "EPH_TYPE Definitive\n",
      "EPH_TIME 59751.75972222222\n",
      "JWST_X -845073.9132251297\n",
      "JWST_Y -140585270.2006363\n",
      "JWST_Z -61365829.25905764\n",
      "OBSGEO-X 362899179.140006\n",
      "OBSGEO-Y -1339357702.71816\n",
      "OBSGEO-Z -1035769565.05835\n",
      "JWST_DX 29.37048852040163\n",
      "JWST_DY -0.05191896214970541\n",
      "JWST_DZ -0.1075265211274984\n",
      "OBSGEODX 68.0573134167339\n",
      "OBSGEODY 50.9151671459628\n",
      "OBSGEODZ -62.1592622703712\n",
      "PA_APER 130.0342561079173\n",
      "VA_SCALE 0.9999513966023577\n",
      "BUNIT MJy/sr\n",
      " \n",
      " Photometry information\n",
      " \n",
      "PHOTMJSR 2.962800025939941\n",
      "PHOTUJA2 69.63892741094277\n",
      "PIXAR_SR 2.11539874851881e-14\n",
      "PIXAR_A2 0.0009\n",
      " \n",
      " Information about the coordinates in the file\n",
      " \n",
      "RADESYS ICRS\n",
      " \n",
      " Spacecraft pointing information\n",
      " \n",
      "RA_V1 215.1559540543416\n",
      "DEC_V1 52.8879770400195\n",
      "PA_V3 130.7888965795908\n",
      " \n",
      " WCS parameters\n",
      " \n",
      "WCSAXES 2\n",
      "CRPIX1 26679.5\n",
      "CRPIX2 -723.5\n",
      "CRVAL1 214.825\n",
      "CRVAL2 52.825\n",
      "CTYPE1 RA---TAN\n",
      "CTYPE2 DEC--TAN\n",
      "CUNIT1 deg\n",
      "CUNIT2 deg\n",
      "CDELT1 8.33333333333333e-06\n",
      "CDELT2 8.33333333333333e-06\n",
      "PC1_1 -0.6467897795104595\n",
      "PC1_2 -0.7626683296956883\n",
      "PC2_1 -0.7626683296956883\n",
      "PC2_2 0.6467897795104595\n",
      "S_REGION POLYGON ICRS  215.056273521 52.998237176 215.008212951 53.022903907 214.915179215 52.957122907 214.963219929 52.932493552\n",
      "VELOSYS 14501.05\n",
      "EXTVER 1\n"
     ]
    },
    {
     "name": "stderr",
     "output_type": "stream",
     "text": [
      "WARNING: FITSFixedWarning: 'datfix' made the change 'Set DATE-BEG to '2022-06-21T18:09:46.649' from MJD-BEG.\n",
      "Set DATE-AVG to '2022-06-21T19:19:05.420' from MJD-AVG.\n",
      "Set DATE-END to '2022-06-21T20:27:34.055' from MJD-END'. [astropy.wcs.wcs]\n",
      "WARNING: FITSFixedWarning: 'obsfix' made the change 'Set OBSGEO-L to   -74.839696 from OBSGEO-[XYZ].\n",
      "Set OBSGEO-B to   -36.739053 from OBSGEO-[XYZ].\n",
      "Set OBSGEO-H to 1725216481.136 from OBSGEO-[XYZ]'. [astropy.wcs.wcs]\n"
     ]
    }
   ],
   "source": [
    "\n",
    "# open the first image and get some information, including the dimensions\n",
    "\n",
    "filename = f'{parent_image_dir}/{parent_images[filters[0]]}'\n",
    "\n",
    "# the structure of i2d files are described here:\n",
    "# https://jwst-pipeline.readthedocs.io/en/latest/jwst/data_products/science_products.html#resampled-2-d-data-i2d-and-s2d\n",
    "\n",
    "# open the i2d image file\n",
    "hdul = fits.open(filename)\n",
    "\n",
    "# get info\n",
    "hdul.info()\n",
    "\n",
    "# grab the extension holding the science image\n",
    "hdu = hdul['SCI']\n",
    "\n",
    "# print the shape of the science image\n",
    "print(hdu.data.shape)\n",
    "\n",
    "# print the header keywords\n",
    "for key, value in hdu.header.items():\n",
    "    print(key, value)\n",
    "\n",
    "# grab the wcs\n",
    "wcs = WCS(hdu.header)"
   ]
  },
  {
   "attachments": {},
   "cell_type": "markdown",
   "metadata": {},
   "source": [
    "#### Define the position and size of the cutout"
   ]
  },
  {
   "cell_type": "code",
   "execution_count": 4,
   "metadata": {},
   "outputs": [],
   "source": [
    "position = (500, 300)\n",
    "size = (200, 200)\n",
    "output_dir = '../test_data/'"
   ]
  },
  {
   "attachments": {},
   "cell_type": "markdown",
   "metadata": {},
   "source": [
    "#### Create cutouts"
   ]
  },
  {
   "cell_type": "code",
   "execution_count": 5,
   "metadata": {},
   "outputs": [
    {
     "name": "stdout",
     "output_type": "stream",
     "text": [
      "f115w\n"
     ]
    },
    {
     "ename": "FileNotFoundError",
     "evalue": "[Errno 2] No such file or directory: '../../test_data//f115w_i2d.fits'",
     "output_type": "error",
     "traceback": [
      "\u001b[0;31m---------------------------------------------------------------------------\u001b[0m",
      "\u001b[0;31mFileNotFoundError\u001b[0m                         Traceback (most recent call last)",
      "Cell \u001b[0;32mIn[5], line 32\u001b[0m\n\u001b[1;32m     30\u001b[0m \u001b[39m# Write the cutout to a new FITS file\u001b[39;00m\n\u001b[1;32m     31\u001b[0m cutout_filename \u001b[39m=\u001b[39m \u001b[39mf\u001b[39m\u001b[39m\"\u001b[39m\u001b[39m../\u001b[39m\u001b[39m{\u001b[39;00moutput_dir\u001b[39m}\u001b[39;00m\u001b[39m/\u001b[39m\u001b[39m{\u001b[39;00m\u001b[39mfilter\u001b[39m\u001b[39m}\u001b[39;00m\u001b[39m_i2d.fits\u001b[39m\u001b[39m\"\u001b[39m\n\u001b[0;32m---> 32\u001b[0m cutout_hdul\u001b[39m.\u001b[39;49mwriteto(cutout_filename, overwrite\u001b[39m=\u001b[39;49m\u001b[39mTrue\u001b[39;49;00m)\n",
      "File \u001b[0;32m~/Dropbox/Research/projects/synthesizer-lines/venv/lib/python3.10/site-packages/astropy/io/fits/hdu/hdulist.py:1020\u001b[0m, in \u001b[0;36mHDUList.writeto\u001b[0;34m(self, fileobj, output_verify, overwrite, checksum)\u001b[0m\n\u001b[1;32m   1016\u001b[0m mode \u001b[39m=\u001b[39m FILE_MODES[fileobj_mode(fileobj)] \u001b[39mif\u001b[39;00m isfile(fileobj) \u001b[39melse\u001b[39;00m \u001b[39m\"\u001b[39m\u001b[39mostream\u001b[39m\u001b[39m\"\u001b[39m\n\u001b[1;32m   1018\u001b[0m \u001b[39m# This can accept an open file object that's open to write only, or in\u001b[39;00m\n\u001b[1;32m   1019\u001b[0m \u001b[39m# append/update modes but only if the file doesn't exist.\u001b[39;00m\n\u001b[0;32m-> 1020\u001b[0m fileobj \u001b[39m=\u001b[39m _File(fileobj, mode\u001b[39m=\u001b[39;49mmode, overwrite\u001b[39m=\u001b[39;49moverwrite)\n\u001b[1;32m   1021\u001b[0m hdulist \u001b[39m=\u001b[39m \u001b[39mself\u001b[39m\u001b[39m.\u001b[39mfromfile(fileobj)\n\u001b[1;32m   1022\u001b[0m \u001b[39mtry\u001b[39;00m:\n",
      "File \u001b[0;32m~/Dropbox/Research/projects/synthesizer-lines/venv/lib/python3.10/site-packages/astropy/io/fits/file.py:218\u001b[0m, in \u001b[0;36m_File.__init__\u001b[0;34m(self, fileobj, mode, memmap, overwrite, cache, use_fsspec, fsspec_kwargs, decompress_in_memory)\u001b[0m\n\u001b[1;32m    216\u001b[0m     \u001b[39mself\u001b[39m\u001b[39m.\u001b[39m_open_fileobj(fileobj, mode, overwrite)\n\u001b[1;32m    217\u001b[0m \u001b[39melif\u001b[39;00m \u001b[39misinstance\u001b[39m(fileobj, (\u001b[39mstr\u001b[39m, \u001b[39mbytes\u001b[39m)):\n\u001b[0;32m--> 218\u001b[0m     \u001b[39mself\u001b[39;49m\u001b[39m.\u001b[39;49m_open_filename(fileobj, mode, overwrite)\n\u001b[1;32m    219\u001b[0m \u001b[39melse\u001b[39;00m:\n\u001b[1;32m    220\u001b[0m     \u001b[39mself\u001b[39m\u001b[39m.\u001b[39m_open_filelike(fileobj, mode, overwrite)\n",
      "File \u001b[0;32m~/Dropbox/Research/projects/synthesizer-lines/venv/lib/python3.10/site-packages/astropy/io/fits/file.py:641\u001b[0m, in \u001b[0;36m_File._open_filename\u001b[0;34m(self, filename, mode, overwrite)\u001b[0m\n\u001b[1;32m    638\u001b[0m ext \u001b[39m=\u001b[39m os\u001b[39m.\u001b[39mpath\u001b[39m.\u001b[39msplitext(\u001b[39mself\u001b[39m\u001b[39m.\u001b[39mname)[\u001b[39m1\u001b[39m]\n\u001b[1;32m    640\u001b[0m \u001b[39mif\u001b[39;00m \u001b[39mnot\u001b[39;00m \u001b[39mself\u001b[39m\u001b[39m.\u001b[39m_try_read_compressed(\u001b[39mself\u001b[39m\u001b[39m.\u001b[39mname, magic, mode, ext\u001b[39m=\u001b[39mext):\n\u001b[0;32m--> 641\u001b[0m     \u001b[39mself\u001b[39m\u001b[39m.\u001b[39m_file \u001b[39m=\u001b[39m \u001b[39mopen\u001b[39;49m(\u001b[39mself\u001b[39;49m\u001b[39m.\u001b[39;49mname, IO_FITS_MODES[mode])\n\u001b[1;32m    642\u001b[0m     \u001b[39mself\u001b[39m\u001b[39m.\u001b[39mclose_on_error \u001b[39m=\u001b[39m \u001b[39mTrue\u001b[39;00m\n\u001b[1;32m    644\u001b[0m \u001b[39m# Make certain we're back at the beginning of the file\u001b[39;00m\n\u001b[1;32m    645\u001b[0m \u001b[39m# BZ2File does not support seek when the file is open for writing, but\u001b[39;00m\n\u001b[1;32m    646\u001b[0m \u001b[39m# when opening a file for write, bz2.BZ2File always truncates anyway.\u001b[39;00m\n",
      "\u001b[0;31mFileNotFoundError\u001b[0m: [Errno 2] No such file or directory: '../../test_data//f115w_i2d.fits'"
     ]
    }
   ],
   "source": [
    "\n",
    "# loop over parent images\n",
    "for filter, parent_image in parent_images.items(): \n",
    "\n",
    "    print(filter)\n",
    "\n",
    "    # create new hdul with empty primary HDU\n",
    "    cutout_primary_hdu = fits.PrimaryHDU()\n",
    "    cutout_hdul = fits.HDUList([cutout_primary_hdu])\n",
    "\n",
    "    # open the i2d image file\n",
    "    hdul = fits.open(f'{parent_image_dir}/{parent_image}')\n",
    "\n",
    "    for ext in ['SCI', 'ERR', 'WHT']:    \n",
    "\n",
    "        # grab the extension holding the science image\n",
    "        hdu = hdul[ext]\n",
    "\n",
    "        # Make the cutout, including the WCS\n",
    "        cutout = Cutout2D(hdu.data, position=position, size=size, wcs=wcs)\n",
    "\n",
    "        # Create the hdu for this extention\n",
    "        cutout_hdu = fits.ImageHDU(data=cutout.data, name=ext)\n",
    "        \n",
    "        # Update the FITS header with the cutout WCS\n",
    "        cutout_hdu.header.update(cutout.wcs.to_header())\n",
    "\n",
    "        # Append the hdu to the hdu list\n",
    "        cutout_hdul.append(cutout_hdu)\n",
    "\n",
    "    # Write the cutout to a new FITS file\n",
    "    cutout_filename = f\"{output_dir}/{filter}_i2d.fits\"\n",
    "    cutout_hdul.writeto(cutout_filename, overwrite=True)\n",
    "\n"
   ]
  }
 ],
 "metadata": {
  "kernelspec": {
   "display_name": "venv",
   "language": "python",
   "name": "python3"
  },
  "language_info": {
   "codemirror_mode": {
    "name": "ipython",
    "version": 3
   },
   "file_extension": ".py",
   "mimetype": "text/x-python",
   "name": "python",
   "nbconvert_exporter": "python",
   "pygments_lexer": "ipython3",
   "version": "3.10.11"
  },
  "orig_nbformat": 4,
  "vscode": {
   "interpreter": {
    "hash": "93002983ca460f516fa2d65bf0982bace8e17cdc5abc48aba510da547952d210"
   }
  }
 },
 "nbformat": 4,
 "nbformat_minor": 2
}
